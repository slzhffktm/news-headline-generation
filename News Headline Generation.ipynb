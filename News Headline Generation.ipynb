{
 "cells": [
  {
   "cell_type": "code",
   "execution_count": 118,
   "metadata": {},
   "outputs": [],
   "source": [
    "import matplotlib.pyplot as plt\n",
    "import numpy as np\n",
    "import pandas as pd\n",
    "\n",
    "from sklearn.model_selection import train_test_split\n",
    "\n",
    "from gensim.models import word2vec, FastText\n",
    "\n",
    "from keras.models import Sequential, Model\n",
    "from keras.layers import LSTM, Dense, Dropout, Embedding, Bidirectional\n",
    "from keras.callbacks import ModelCheckpoint\n",
    "from keras.layers.merge import add, concatenate\n",
    "from keras import Input\n",
    "from keras.utils import to_categorical\n",
    "import tensorflow as tf\n",
    "\n",
    "from nltk.translate.bleu_score import sentence_bleu\n",
    "from nltk.translate.meteor_score import meteor_score"
   ]
  },
  {
   "cell_type": "code",
   "execution_count": 73,
   "metadata": {},
   "outputs": [],
   "source": [
    "np.random.seed(105)\n",
    "tf.random.set_seed(105)"
   ]
  },
  {
   "cell_type": "markdown",
   "metadata": {},
   "source": [
    "## Import Data "
   ]
  },
  {
   "cell_type": "code",
   "execution_count": 2,
   "metadata": {},
   "outputs": [],
   "source": [
    "df = pd.read_csv('data/testing.csv').drop(['Unnamed: 0'], axis=1)"
   ]
  },
  {
   "cell_type": "code",
   "execution_count": 3,
   "metadata": {
    "scrolled": true
   },
   "outputs": [
    {
     "data": {
      "text/html": [
       "<div>\n",
       "<style scoped>\n",
       "    .dataframe tbody tr th:only-of-type {\n",
       "        vertical-align: middle;\n",
       "    }\n",
       "\n",
       "    .dataframe tbody tr th {\n",
       "        vertical-align: top;\n",
       "    }\n",
       "\n",
       "    .dataframe thead th {\n",
       "        text-align: right;\n",
       "    }\n",
       "</style>\n",
       "<table border=\"1\" class=\"dataframe\">\n",
       "  <thead>\n",
       "    <tr style=\"text-align: right;\">\n",
       "      <th></th>\n",
       "      <th>pos_tagged</th>\n",
       "      <th>tokens</th>\n",
       "      <th>pos</th>\n",
       "      <th>lemma_tokens</th>\n",
       "      <th>entities</th>\n",
       "      <th>headline</th>\n",
       "      <th>tokens.1</th>\n",
       "      <th>is_sarcastic</th>\n",
       "      <th>keywords</th>\n",
       "    </tr>\n",
       "  </thead>\n",
       "  <tbody>\n",
       "    <tr>\n",
       "      <th>0</th>\n",
       "      <td>[('NEW', 'NNP'), ('YORK—Responding', 'VBG'), (...</td>\n",
       "      <td>['new', 'york—responding', 'critics', 'contend...</td>\n",
       "      <td>['NNP', 'VBG', 'NNS', 'VBP', 'JJR', 'NN', 'NNS...</td>\n",
       "      <td>['new', 'york—responding', 'critic', 'contend'...</td>\n",
       "      <td>[('ORGANIZATION', ['Nate', 'Silver']), ('PERSO...</td>\n",
       "      <td>nate silver defends torture methods used to ma...</td>\n",
       "      <td>['&lt;startseq&gt;', 'nate', 'silver', 'defends', 't...</td>\n",
       "      <td>1</td>\n",
       "      <td>{'silver': 0.262, 'voter': 0.261, 'shackling':...</td>\n",
       "    </tr>\n",
       "    <tr>\n",
       "      <th>1</th>\n",
       "      <td>[('At', 'IN'), ('bad', 'JJ'), ('Everyone', 'NN...</td>\n",
       "      <td>['at', 'bad', 'everyone', 'rubbish', 'somethin...</td>\n",
       "      <td>['IN', 'JJ', 'NNP', 'NN', 'NN', 'VBP', 'NNS', ...</td>\n",
       "      <td>['at', 'bad', 'everyone', 'rubbish', 'somethin...</td>\n",
       "      <td>[('PERSON', ['Karaoke', 'Night']), ('PERSON', ...</td>\n",
       "      <td>ways to learn from the things youre bad at</td>\n",
       "      <td>['&lt;startseq&gt;', 'ways', 'to', 'learn', 'from', ...</td>\n",
       "      <td>0</td>\n",
       "      <td>{'weakness': 0.413, 'natural': 0.207, 'listen'...</td>\n",
       "    </tr>\n",
       "    <tr>\n",
       "      <th>2</th>\n",
       "      <td>[('Breaking', 'VBG'), ('man', 'NN'), ('shot', ...</td>\n",
       "      <td>['breaking', 'man', 'shot', 'mosque', 'way', '...</td>\n",
       "      <td>['VBG', 'NN', 'NN', 'JJ', 'NN', 'IN', 'NN', 'N...</td>\n",
       "      <td>['break', 'man', 'shot', 'mosque', 'way', 'pra...</td>\n",
       "      <td>[('ORGANIZATION', ['Muslim']), ('PERSON', ['Ho...</td>\n",
       "      <td>muslim man shot near mosque in texas</td>\n",
       "      <td>['&lt;startseq&gt;', 'muslim', 'man', 'shot', 'near'...</td>\n",
       "      <td>0</td>\n",
       "      <td>{'mosque': 0.515, 'imaduddin': 0.276, 'police'...</td>\n",
       "    </tr>\n",
       "    <tr>\n",
       "      <th>3</th>\n",
       "      <td>[('CORBIN', 'NNP'), ('KY–Local', 'NNP'), ('foo...</td>\n",
       "      <td>['corbin', 'ky–local', 'foodservice', 'worker'...</td>\n",
       "      <td>['NNP', 'NNP', 'NN', 'NN', 'NNP', 'NNP', 'VBD'...</td>\n",
       "      <td>['corbin', 'foodservice', 'worker', 'earl', 'b...</td>\n",
       "      <td>[('ORGANIZATION', ['CORBIN']), ('PERSON', ['Ea...</td>\n",
       "      <td>area man reduced to this</td>\n",
       "      <td>['&lt;startseq&gt;', 'area', 'man', 'to', 'this', '&lt;...</td>\n",
       "      <td>1</td>\n",
       "      <td>{'baxter': 0.626, 'reducedtothis': 0.183, 'mis...</td>\n",
       "    </tr>\n",
       "    <tr>\n",
       "      <th>4</th>\n",
       "      <td>[('Sure', 'JJ'), ('bride', 'IN'), ('groom', 'N...</td>\n",
       "      <td>['sure', 'bride', 'groom', 'may', 'stars', 'sh...</td>\n",
       "      <td>['JJ', 'IN', 'NN', 'MD', 'VB', 'VB', 'JJ', 'JJ...</td>\n",
       "      <td>['sure', 'bride', 'groom', 'may', 'star', 'sho...</td>\n",
       "      <td>[('ORGANIZATION', ['Senior']), ('ORGANIZATION'...</td>\n",
       "      <td>times flower girls brought some major style t...</td>\n",
       "      <td>['&lt;startseq&gt;', 'times', 'flower', 'girls', 'br...</td>\n",
       "      <td>0</td>\n",
       "      <td>{'fashionforward': 0.407, 'newlywed': 0.333, '...</td>\n",
       "    </tr>\n",
       "  </tbody>\n",
       "</table>\n",
       "</div>"
      ],
      "text/plain": [
       "                                          pos_tagged  \\\n",
       "0  [('NEW', 'NNP'), ('YORK—Responding', 'VBG'), (...   \n",
       "1  [('At', 'IN'), ('bad', 'JJ'), ('Everyone', 'NN...   \n",
       "2  [('Breaking', 'VBG'), ('man', 'NN'), ('shot', ...   \n",
       "3  [('CORBIN', 'NNP'), ('KY–Local', 'NNP'), ('foo...   \n",
       "4  [('Sure', 'JJ'), ('bride', 'IN'), ('groom', 'N...   \n",
       "\n",
       "                                              tokens  \\\n",
       "0  ['new', 'york—responding', 'critics', 'contend...   \n",
       "1  ['at', 'bad', 'everyone', 'rubbish', 'somethin...   \n",
       "2  ['breaking', 'man', 'shot', 'mosque', 'way', '...   \n",
       "3  ['corbin', 'ky–local', 'foodservice', 'worker'...   \n",
       "4  ['sure', 'bride', 'groom', 'may', 'stars', 'sh...   \n",
       "\n",
       "                                                 pos  \\\n",
       "0  ['NNP', 'VBG', 'NNS', 'VBP', 'JJR', 'NN', 'NNS...   \n",
       "1  ['IN', 'JJ', 'NNP', 'NN', 'NN', 'VBP', 'NNS', ...   \n",
       "2  ['VBG', 'NN', 'NN', 'JJ', 'NN', 'IN', 'NN', 'N...   \n",
       "3  ['NNP', 'NNP', 'NN', 'NN', 'NNP', 'NNP', 'VBD'...   \n",
       "4  ['JJ', 'IN', 'NN', 'MD', 'VB', 'VB', 'JJ', 'JJ...   \n",
       "\n",
       "                                        lemma_tokens  \\\n",
       "0  ['new', 'york—responding', 'critic', 'contend'...   \n",
       "1  ['at', 'bad', 'everyone', 'rubbish', 'somethin...   \n",
       "2  ['break', 'man', 'shot', 'mosque', 'way', 'pra...   \n",
       "3  ['corbin', 'foodservice', 'worker', 'earl', 'b...   \n",
       "4  ['sure', 'bride', 'groom', 'may', 'star', 'sho...   \n",
       "\n",
       "                                            entities  \\\n",
       "0  [('ORGANIZATION', ['Nate', 'Silver']), ('PERSO...   \n",
       "1  [('PERSON', ['Karaoke', 'Night']), ('PERSON', ...   \n",
       "2  [('ORGANIZATION', ['Muslim']), ('PERSON', ['Ho...   \n",
       "3  [('ORGANIZATION', ['CORBIN']), ('PERSON', ['Ea...   \n",
       "4  [('ORGANIZATION', ['Senior']), ('ORGANIZATION'...   \n",
       "\n",
       "                                            headline  \\\n",
       "0  nate silver defends torture methods used to ma...   \n",
       "1         ways to learn from the things youre bad at   \n",
       "2               muslim man shot near mosque in texas   \n",
       "3                           area man reduced to this   \n",
       "4   times flower girls brought some major style t...   \n",
       "\n",
       "                                            tokens.1  is_sarcastic  \\\n",
       "0  ['<startseq>', 'nate', 'silver', 'defends', 't...             1   \n",
       "1  ['<startseq>', 'ways', 'to', 'learn', 'from', ...             0   \n",
       "2  ['<startseq>', 'muslim', 'man', 'shot', 'near'...             0   \n",
       "3  ['<startseq>', 'area', 'man', 'to', 'this', '<...             1   \n",
       "4  ['<startseq>', 'times', 'flower', 'girls', 'br...             0   \n",
       "\n",
       "                                            keywords  \n",
       "0  {'silver': 0.262, 'voter': 0.261, 'shackling':...  \n",
       "1  {'weakness': 0.413, 'natural': 0.207, 'listen'...  \n",
       "2  {'mosque': 0.515, 'imaduddin': 0.276, 'police'...  \n",
       "3  {'baxter': 0.626, 'reducedtothis': 0.183, 'mis...  \n",
       "4  {'fashionforward': 0.407, 'newlywed': 0.333, '...  "
      ]
     },
     "execution_count": 3,
     "metadata": {},
     "output_type": "execute_result"
    }
   ],
   "source": [
    "df.head()"
   ]
  },
  {
   "cell_type": "code",
   "execution_count": 4,
   "metadata": {},
   "outputs": [
    {
     "data": {
      "text/plain": [
       "(10000, 9)"
      ]
     },
     "execution_count": 4,
     "metadata": {},
     "output_type": "execute_result"
    }
   ],
   "source": [
    "df.shape"
   ]
  },
  {
   "cell_type": "code",
   "execution_count": 5,
   "metadata": {},
   "outputs": [],
   "source": [
    "# use the lemma_tokens as model input\n",
    "X_body = [eval(x) for x in df['lemma_tokens'].values]\n",
    "X_is_sarcastic = df.is_sarcastic.values"
   ]
  },
  {
   "cell_type": "code",
   "execution_count": 6,
   "metadata": {},
   "outputs": [],
   "source": [
    "headlines = [eval(x) for x in df['tokens.1'].values]"
   ]
  },
  {
   "cell_type": "markdown",
   "metadata": {},
   "source": [
    "## Data Preparation"
   ]
  },
  {
   "cell_type": "markdown",
   "metadata": {},
   "source": [
    "### Convert Entities Data"
   ]
  },
  {
   "cell_type": "code",
   "execution_count": 7,
   "metadata": {},
   "outputs": [],
   "source": [
    "entities = [eval(x) for x in df['entities'].values]"
   ]
  },
  {
   "cell_type": "code",
   "execution_count": 8,
   "metadata": {},
   "outputs": [],
   "source": [
    "# remove type of the entities\n",
    "temp_entities = []\n",
    "\n",
    "for row_entities in entities:\n",
    "    temp = []\n",
    "    for typed_entities in row_entities:\n",
    "        temp += typed_entities[1]\n",
    "    temp_entities.append(list(set(temp)))\n",
    "\n",
    "entities = temp_entities"
   ]
  },
  {
   "cell_type": "code",
   "execution_count": 9,
   "metadata": {},
   "outputs": [],
   "source": [
    "# lowercase all entities\n",
    "for row_entities in entities:\n",
    "    for i in range(len(row_entities)):\n",
    "        row_entities[i] = row_entities[i].lower()"
   ]
  },
  {
   "cell_type": "code",
   "execution_count": 10,
   "metadata": {},
   "outputs": [],
   "source": [
    "X_is_entity = []\n",
    "\n",
    "for i, (words, row_entities) in enumerate(zip(X_body, entities)):\n",
    "    X_is_entity.append([])\n",
    "    for word in words:\n",
    "        if word in row_entities:\n",
    "            X_is_entity[i].append(1)\n",
    "        else:\n",
    "            X_is_entity[i].append(0)"
   ]
  },
  {
   "cell_type": "markdown",
   "metadata": {},
   "source": [
    "### Convert Keywords Data"
   ]
  },
  {
   "cell_type": "code",
   "execution_count": 11,
   "metadata": {},
   "outputs": [],
   "source": [
    "keywords = [eval(x) for x in df['keywords'].values]"
   ]
  },
  {
   "cell_type": "code",
   "execution_count": 12,
   "metadata": {},
   "outputs": [],
   "source": [
    "keywords = [list(keyword.keys()) for keyword in keywords]"
   ]
  },
  {
   "cell_type": "code",
   "execution_count": 13,
   "metadata": {},
   "outputs": [],
   "source": [
    "X_is_keyword = []\n",
    "\n",
    "for i, (words, row_keywords) in enumerate(zip(X_body, keywords)):\n",
    "    X_is_keyword.append([])\n",
    "    for word in words:\n",
    "        if word in row_keywords:\n",
    "            X_is_keyword[i].append(1)\n",
    "        else:\n",
    "            X_is_keyword[i].append(0)"
   ]
  },
  {
   "cell_type": "markdown",
   "metadata": {},
   "source": [
    "### Word Embedding"
   ]
  },
  {
   "cell_type": "code",
   "execution_count": 14,
   "metadata": {},
   "outputs": [],
   "source": [
    "def embed_words(embedding_model, sentence):\n",
    "    vector = []\n",
    "    for i in range(len(sentence)):\n",
    "        vector.append(embedding_model[sentence[i]])\n",
    "    \n",
    "    return vector"
   ]
  },
  {
   "cell_type": "markdown",
   "metadata": {},
   "source": [
    "#### Word2Vec"
   ]
  },
  {
   "cell_type": "code",
   "execution_count": 47,
   "metadata": {},
   "outputs": [],
   "source": [
    "w2v = word2vec.Word2Vec\n",
    "\n",
    "body_embedding = w2v.load('models/body_embedding.model')\n",
    "head_embedding = w2v.load('models/head_embedding.model')"
   ]
  },
  {
   "cell_type": "markdown",
   "metadata": {},
   "source": [
    "#### FastText"
   ]
  },
  {
   "cell_type": "code",
   "execution_count": 37,
   "metadata": {},
   "outputs": [],
   "source": [
    "body_embedding = FastText.load('models/body_embedding_fasttext.model')\n",
    "head_embedding = FastText.load('models/head_embedding_fasttext.model')"
   ]
  },
  {
   "cell_type": "markdown",
   "metadata": {},
   "source": [
    "### Padding"
   ]
  },
  {
   "cell_type": "markdown",
   "metadata": {},
   "source": [
    "#### Pad Body"
   ]
  },
  {
   "cell_type": "code",
   "execution_count": 48,
   "metadata": {},
   "outputs": [],
   "source": [
    "BODY_LENGTH = max([len(x_body) for x_body in X_body])"
   ]
  },
  {
   "cell_type": "code",
   "execution_count": 49,
   "metadata": {},
   "outputs": [],
   "source": [
    "EMBEDDING_DIM = 103"
   ]
  },
  {
   "cell_type": "code",
   "execution_count": 50,
   "metadata": {},
   "outputs": [],
   "source": [
    "def pad_body(body):\n",
    "    return [np.zeros(EMBEDDING_DIM)] * (BODY_LENGTH - len(body)) + body"
   ]
  },
  {
   "cell_type": "markdown",
   "metadata": {},
   "source": [
    "#### Create Function for Pad Head"
   ]
  },
  {
   "cell_type": "code",
   "execution_count": 51,
   "metadata": {},
   "outputs": [],
   "source": [
    "HEAD_LENGTH = max([len(headline) for headline in headlines])"
   ]
  },
  {
   "cell_type": "code",
   "execution_count": 52,
   "metadata": {},
   "outputs": [],
   "source": [
    "HEAD_EMBEDDING_DIM = 100"
   ]
  },
  {
   "cell_type": "code",
   "execution_count": 53,
   "metadata": {},
   "outputs": [],
   "source": [
    "def pad_head(headline):\n",
    "    return [np.zeros(HEAD_EMBEDDING_DIM)] * (HEAD_LENGTH - len(headline)) + headline"
   ]
  },
  {
   "cell_type": "markdown",
   "metadata": {},
   "source": [
    "### Create Dictionary for Head Word Index"
   ]
  },
  {
   "cell_type": "code",
   "execution_count": 54,
   "metadata": {},
   "outputs": [],
   "source": [
    "words_list = list(set([inner for outer in headlines for inner in outer]))"
   ]
  },
  {
   "cell_type": "code",
   "execution_count": 55,
   "metadata": {},
   "outputs": [],
   "source": [
    "idx_to_word = {i: word for i, word in enumerate(words_list)}"
   ]
  },
  {
   "cell_type": "code",
   "execution_count": 56,
   "metadata": {},
   "outputs": [],
   "source": [
    "word_to_idx = {word: i for i, word in enumerate(words_list)}"
   ]
  },
  {
   "cell_type": "markdown",
   "metadata": {},
   "source": [
    "### Count Head Vocab Size"
   ]
  },
  {
   "cell_type": "code",
   "execution_count": 57,
   "metadata": {},
   "outputs": [],
   "source": [
    "HEAD_VOCAB_SIZE = len(words_list)"
   ]
  },
  {
   "cell_type": "markdown",
   "metadata": {},
   "source": [
    "## Create Model"
   ]
  },
  {
   "cell_type": "markdown",
   "metadata": {},
   "source": [
    "### Data Generator"
   ]
  },
  {
   "cell_type": "code",
   "execution_count": 58,
   "metadata": {},
   "outputs": [],
   "source": [
    "# data generator, intended to be used in a call to model.fit_generator()\n",
    "def data_generator(X_body, X_is_entity, X_is_keyword, X_is_sarcastic, headlines, batch_size):\n",
    "    while 1:\n",
    "        for x_body, x_is_entity, x_is_keyword, x_is_sarcastic, headline in zip(X_body, X_is_entity, X_is_keyword, X_is_sarcastic, headlines):\n",
    "            # word embedding\n",
    "            x_body_embedded = embed_words(body_embedding, x_body)\n",
    "            headline_embedded = embed_words(head_embedding, headline)\n",
    "            \n",
    "            # concat x_body\n",
    "            for i in range(len(x_body_embedded)):\n",
    "                x_body_embedded[i] = np.concatenate(([x_is_entity[i]], [x_is_keyword[i]], \n",
    "                                                     [x_is_sarcastic], x_body_embedded[i]))\n",
    "            # pad x_body\n",
    "            x_body_embedded = pad_body(x_body_embedded)\n",
    "            # reshape\n",
    "            x_body_embedded = np.array(x_body_embedded).reshape(1, BODY_LENGTH, EMBEDDING_DIM)\n",
    "            \n",
    "            for i in range(1, len(headline)):\n",
    "                # split into input and output pair\n",
    "                in_seq, out_seq = headline_embedded[:i], headline[i]\n",
    "                # pad input sequence\n",
    "                in_seq = pad_head(in_seq)\n",
    "                # reshape\n",
    "                in_seq = np.array(in_seq).reshape(1, HEAD_LENGTH, HEAD_EMBEDDING_DIM)\n",
    "        \n",
    "                yield [np.array(x_body_embedded), np.array(in_seq)], np.array([to_categorical(word_to_idx[out_seq], num_classes=HEAD_VOCAB_SIZE)])"
   ]
  },
  {
   "cell_type": "markdown",
   "metadata": {},
   "source": [
    "### Model Architecture"
   ]
  },
  {
   "cell_type": "code",
   "execution_count": 74,
   "metadata": {
    "scrolled": false
   },
   "outputs": [],
   "source": [
    "input_body = Input(shape=(BODY_LENGTH, EMBEDDING_DIM), name='input_body')\n",
    "do_body = Dropout(0)(input_body)\n",
    "lstm_body = LSTM(64)(do_body)\n",
    "\n",
    "input_head = Input(shape=(HEAD_LENGTH, HEAD_EMBEDDING_DIM), name='input_head')\n",
    "do_head = Dropout(0)(input_head)\n",
    "lstm_head = LSTM(64)(do_head)\n",
    "\n",
    "decoder1 = add([lstm_body, lstm_head])\n",
    "decoder2 = Dense(1024, activation='relu', name='dense_decoder')(decoder1)\n",
    "output = Dense(HEAD_VOCAB_SIZE, activation='softmax', name='output')(decoder2)\n",
    "\n",
    "model = Model(inputs=[input_body, input_head], outputs=output)"
   ]
  },
  {
   "cell_type": "code",
   "execution_count": 75,
   "metadata": {},
   "outputs": [
    {
     "name": "stdout",
     "output_type": "stream",
     "text": [
      "Model: \"model_4\"\n",
      "__________________________________________________________________________________________________\n",
      "Layer (type)                    Output Shape         Param #     Connected to                     \n",
      "==================================================================================================\n",
      "input_body (InputLayer)         (None, 6488, 103)    0                                            \n",
      "__________________________________________________________________________________________________\n",
      "input_head (InputLayer)         (None, 31, 100)      0                                            \n",
      "__________________________________________________________________________________________________\n",
      "dropout_7 (Dropout)             (None, 6488, 103)    0           input_body[0][0]                 \n",
      "__________________________________________________________________________________________________\n",
      "dropout_8 (Dropout)             (None, 31, 100)      0           input_head[0][0]                 \n",
      "__________________________________________________________________________________________________\n",
      "lstm_7 (LSTM)                   (None, 64)           43008       dropout_7[0][0]                  \n",
      "__________________________________________________________________________________________________\n",
      "lstm_8 (LSTM)                   (None, 64)           42240       dropout_8[0][0]                  \n",
      "__________________________________________________________________________________________________\n",
      "add_4 (Add)                     (None, 64)           0           lstm_7[0][0]                     \n",
      "                                                                 lstm_8[0][0]                     \n",
      "__________________________________________________________________________________________________\n",
      "dense_decoder (Dense)           (None, 1024)         66560       add_4[0][0]                      \n",
      "__________________________________________________________________________________________________\n",
      "output (Dense)                  (None, 5409)         5544225     dense_decoder[0][0]              \n",
      "==================================================================================================\n",
      "Total params: 5,696,033\n",
      "Trainable params: 5,696,033\n",
      "Non-trainable params: 0\n",
      "__________________________________________________________________________________________________\n"
     ]
    }
   ],
   "source": [
    "model.summary()"
   ]
  },
  {
   "cell_type": "code",
   "execution_count": 76,
   "metadata": {},
   "outputs": [],
   "source": [
    "model.compile(loss='categorical_crossentropy', optimizer='adam')"
   ]
  },
  {
   "cell_type": "code",
   "execution_count": 61,
   "metadata": {},
   "outputs": [],
   "source": [
    "# load model\n",
    "# model.load_weights('./models/model_test19.h5')"
   ]
  },
  {
   "cell_type": "markdown",
   "metadata": {},
   "source": [
    "### Training"
   ]
  },
  {
   "cell_type": "code",
   "execution_count": 80,
   "metadata": {
    "scrolled": true
   },
   "outputs": [
    {
     "name": "stdout",
     "output_type": "stream",
     "text": [
      "Epoch 1/1\n"
     ]
    },
    {
     "name": "stderr",
     "output_type": "stream",
     "text": [
      "D:\\Programs\\Anaconda3\\lib\\site-packages\\ipykernel_launcher.py:4: DeprecationWarning: Call to deprecated `__getitem__` (Method will be removed in 4.0.0, use self.wv.__getitem__() instead).\n",
      "  after removing the cwd from sys.path.\n"
     ]
    },
    {
     "name": "stdout",
     "output_type": "stream",
     "text": [
      "312/312 [==============================] - 1466s 5s/step - loss: 1.8235\n",
      "Epoch 1/1\n",
      "312/312 [==============================] - 1469s 5s/step - loss: 1.5804\n",
      "Epoch 1/1\n",
      "312/312 [==============================] - 1462s 5s/step - loss: 1.2342\n",
      "Epoch 1/1\n",
      "312/312 [==============================] - 1461s 5s/step - loss: 1.1348\n",
      "Epoch 1/1\n",
      "312/312 [==============================] - 1462s 5s/step - loss: 0.9382\n",
      "Epoch 1/1\n",
      "312/312 [==============================] - 1463s 5s/step - loss: 0.9579\n",
      "Epoch 1/1\n",
      "312/312 [==============================] - 1464s 5s/step - loss: 0.9536\n",
      "Epoch 1/1\n",
      "312/312 [==============================] - 1474s 5s/step - loss: 0.6922\n",
      "Epoch 1/1\n",
      "312/312 [==============================] - 1465s 5s/step - loss: 0.5637\n"
     ]
    }
   ],
   "source": [
    "epochs = 15\n",
    "batch_size = 32\n",
    "\n",
    "steps = len(X_body) // batch_size\n",
    "\n",
    "for i in range(6, epochs):\n",
    "    generator = data_generator(X_body, X_is_entity, X_is_keyword, X_is_sarcastic, headlines, batch_size)\n",
    "    model.fit_generator(generator, epochs=1, steps_per_epoch=steps, verbose=1)\n",
    "    model.save('./models/model_w2v_e' + str(i) + '.h5')"
   ]
  },
  {
   "cell_type": "markdown",
   "metadata": {},
   "source": [
    "### Predicting"
   ]
  },
  {
   "cell_type": "code",
   "execution_count": 93,
   "metadata": {},
   "outputs": [],
   "source": [
    "def predict(x_body, x_is_entity, x_is_keyword, x_is_sarcastic):\n",
    "    # word embedding\n",
    "    x_body_embedded = embed_words(body_embedding, x_body)\n",
    "\n",
    "    # concat x_body\n",
    "    for i in range(len(x_body_embedded)):\n",
    "        x_body_embedded[i] = np.concatenate(([x_is_entity[i]], [x_is_keyword[i]], \n",
    "                                             [x_is_sarcastic], x_body_embedded[i]))\n",
    "\n",
    "    # pad x_body\n",
    "    x_body_embedded = pad_body(x_body_embedded)\n",
    "    x_body_embedded = np.array(x_body_embedded).reshape(1, BODY_LENGTH, EMBEDDING_DIM)\n",
    "    in_text = '<startseq>'\n",
    "    for i in range(HEAD_LENGTH):\n",
    "        sequence = embed_words(head_embedding, in_text.split())\n",
    "        sequence = pad_head(sequence)\n",
    "        sequence = np.array(sequence).reshape(1, HEAD_LENGTH, HEAD_EMBEDDING_DIM)\n",
    "        yhat = model.predict([x_body_embedded, sequence], verbose=0)\n",
    "        \n",
    "        yhat = np.argmax(yhat)\n",
    "        word = idx_to_word[yhat]\n",
    "#         print(word)\n",
    "        in_text += ' ' + word\n",
    "        if word == '<endseq>':\n",
    "            break\n",
    "    \n",
    "    in_text = in_text.replace('<startseq>','')\n",
    "    in_text = in_text.replace('<endseq>','')\n",
    "\n",
    "    return in_text.strip().split()"
   ]
  },
  {
   "cell_type": "code",
   "execution_count": 94,
   "metadata": {
    "scrolled": true
   },
   "outputs": [
    {
     "name": "stderr",
     "output_type": "stream",
     "text": [
      "D:\\Programs\\Anaconda3\\lib\\site-packages\\ipykernel_launcher.py:4: DeprecationWarning: Call to deprecated `__getitem__` (Method will be removed in 4.0.0, use self.wv.__getitem__() instead).\n",
      "  after removing the cwd from sys.path.\n"
     ]
    },
    {
     "data": {
      "text/plain": [
       "['its',\n",
       " 'you',\n",
       " 'you',\n",
       " 'you',\n",
       " 'me',\n",
       " 'are',\n",
       " 'your',\n",
       " 'back',\n",
       " 'are',\n",
       " 'back',\n",
       " 'back',\n",
       " 'back',\n",
       " 'back']"
      ]
     },
     "execution_count": 94,
     "metadata": {},
     "output_type": "execute_result"
    }
   ],
   "source": [
    "i = 5\n",
    "y_pred = predict(X_body[i], X_is_entity[i], X_is_keyword[i], X_is_sarcastic[i])\n",
    "y_pred"
   ]
  },
  {
   "cell_type": "code",
   "execution_count": 95,
   "metadata": {},
   "outputs": [
    {
     "data": {
      "text/plain": [
       "['its', 'not', 'you', 'its', 'me', 'are', 'your', 'holding', 'you', 'back']"
      ]
     },
     "execution_count": 95,
     "metadata": {},
     "output_type": "execute_result"
    }
   ],
   "source": [
    "headlines[i][1:-1]"
   ]
  },
  {
   "cell_type": "code",
   "execution_count": 102,
   "metadata": {},
   "outputs": [
    {
     "data": {
      "text/plain": [
       "[1.0, 1.0, 1.0, 1.0]"
      ]
     },
     "execution_count": 102,
     "metadata": {},
     "output_type": "execute_result"
    }
   ],
   "source": [
    "bleu_score(headlines[i][1:-1], y_pred)"
   ]
  },
  {
   "cell_type": "markdown",
   "metadata": {},
   "source": [
    "### Testing"
   ]
  },
  {
   "cell_type": "markdown",
   "metadata": {},
   "source": [
    "##### BLEU Score"
   ]
  },
  {
   "cell_type": "code",
   "execution_count": 98,
   "metadata": {},
   "outputs": [],
   "source": [
    "def bleu_score(reference, generated):\n",
    "    bleu1 = sentence_bleu([reference], generated, weights=(1, 0, 0, 0))\n",
    "    bleu2 = sentence_bleu([reference], generated, weights=(0.5, 0.5, 0, 0))\n",
    "    bleu3 = sentence_bleu([reference], generated, weights=(0.33, 0.33, 0.33, 0))\n",
    "    bleu4 = sentence_bleu([reference], generated, weights=(0.25, 0.25, 0.25, 0.25))\n",
    "    \n",
    "    return [bleu1, bleu2, bleu3, bleu4]"
   ]
  },
  {
   "cell_type": "code",
   "execution_count": 106,
   "metadata": {},
   "outputs": [
    {
     "name": "stderr",
     "output_type": "stream",
     "text": [
      "D:\\Programs\\Anaconda3\\lib\\site-packages\\ipykernel_launcher.py:4: DeprecationWarning: Call to deprecated `__getitem__` (Method will be removed in 4.0.0, use self.wv.__getitem__() instead).\n",
      "  after removing the cwd from sys.path.\n",
      "D:\\Programs\\Anaconda3\\lib\\site-packages\\nltk\\translate\\bleu_score.py:523: UserWarning: \n",
      "The hypothesis contains 0 counts of 2-gram overlaps.\n",
      "Therefore the BLEU score evaluates to 0, independently of\n",
      "how many N-gram overlaps of lower order it contains.\n",
      "Consider using lower n-gram order or use SmoothingFunction()\n",
      "  warnings.warn(_msg)\n",
      "D:\\Programs\\Anaconda3\\lib\\site-packages\\nltk\\translate\\bleu_score.py:523: UserWarning: \n",
      "The hypothesis contains 0 counts of 3-gram overlaps.\n",
      "Therefore the BLEU score evaluates to 0, independently of\n",
      "how many N-gram overlaps of lower order it contains.\n",
      "Consider using lower n-gram order or use SmoothingFunction()\n",
      "  warnings.warn(_msg)\n",
      "D:\\Programs\\Anaconda3\\lib\\site-packages\\nltk\\translate\\bleu_score.py:523: UserWarning: \n",
      "The hypothesis contains 0 counts of 4-gram overlaps.\n",
      "Therefore the BLEU score evaluates to 0, independently of\n",
      "how many N-gram overlaps of lower order it contains.\n",
      "Consider using lower n-gram order or use SmoothingFunction()\n",
      "  warnings.warn(_msg)\n"
     ]
    }
   ],
   "source": [
    "bleu_scores = []\n",
    "for i in range(100):\n",
    "    y_pred = predict(X_body[i], X_is_entity[i], X_is_keyword[i], X_is_sarcastic[i])\n",
    "    bleu_scores.append(bleu_score(headlines[i][1:-1], y_pred))"
   ]
  },
  {
   "cell_type": "code",
   "execution_count": 109,
   "metadata": {},
   "outputs": [],
   "source": [
    "bleu_scores_avg = np.array(bleu_scores).mean(axis=0)"
   ]
  },
  {
   "cell_type": "code",
   "execution_count": 115,
   "metadata": {
    "scrolled": true
   },
   "outputs": [
    {
     "name": "stdout",
     "output_type": "stream",
     "text": [
      "BLEU-1: 0.259\n",
      "BLEU-2: 0.225\n",
      "BLEU-3: 0.194\n",
      "BLEU-4: 0.144\n"
     ]
    }
   ],
   "source": [
    "print('BLEU-1: %.3f' % bleu_scores_avg[0])\n",
    "print('BLEU-2: %.3f' % bleu_scores_avg[1])\n",
    "print('BLEU-3: %.3f' % bleu_scores_avg[2])\n",
    "print('BLEU-4: %.3f' % bleu_scores_avg[3])"
   ]
  },
  {
   "cell_type": "markdown",
   "metadata": {},
   "source": [
    "##### METEOR Score"
   ]
  },
  {
   "cell_type": "code",
   "execution_count": 123,
   "metadata": {},
   "outputs": [
    {
     "name": "stderr",
     "output_type": "stream",
     "text": [
      "D:\\Programs\\Anaconda3\\lib\\site-packages\\ipykernel_launcher.py:4: DeprecationWarning: Call to deprecated `__getitem__` (Method will be removed in 4.0.0, use self.wv.__getitem__() instead).\n",
      "  after removing the cwd from sys.path.\n"
     ]
    }
   ],
   "source": [
    "meteor_scores = []\n",
    "for i in range(100):\n",
    "    y_pred = predict(X_body[i], X_is_entity[i], X_is_keyword[i], X_is_sarcastic[i])\n",
    "    meteor_scores.append(meteor_score([' '.join(headlines[i][1:-1])], ' '.join(y_pred)))"
   ]
  },
  {
   "cell_type": "code",
   "execution_count": 124,
   "metadata": {},
   "outputs": [],
   "source": [
    "meteor_scores_avg = np.array(meteor_scores).mean()"
   ]
  },
  {
   "cell_type": "code",
   "execution_count": 125,
   "metadata": {},
   "outputs": [
    {
     "name": "stdout",
     "output_type": "stream",
     "text": [
      "METEOR: 0.270\n"
     ]
    }
   ],
   "source": [
    "print('METEOR: %.3f' % meteor_scores_avg)"
   ]
  }
 ],
 "metadata": {
  "kernelspec": {
   "display_name": "Python 3",
   "language": "python",
   "name": "python3"
  },
  "language_info": {
   "codemirror_mode": {
    "name": "ipython",
    "version": 3
   },
   "file_extension": ".py",
   "mimetype": "text/x-python",
   "name": "python",
   "nbconvert_exporter": "python",
   "pygments_lexer": "ipython3",
   "version": "3.7.3"
  }
 },
 "nbformat": 4,
 "nbformat_minor": 2
}
